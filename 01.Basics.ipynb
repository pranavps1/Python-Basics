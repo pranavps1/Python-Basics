{
 "cells": [
  {
   "cell_type": "code",
   "execution_count": 1,
   "id": "d545da86-4557-47bc-849a-6c31ea43a09f",
   "metadata": {},
   "outputs": [],
   "source": [
    "x=10\n",
    "y=20"
   ]
  },
  {
   "cell_type": "code",
   "execution_count": 2,
   "id": "ea8c74e7-e87b-48df-ba07-5bd87366fb1c",
   "metadata": {},
   "outputs": [
    {
     "name": "stdout",
     "output_type": "stream",
     "text": [
      "30\n"
     ]
    }
   ],
   "source": [
    "print(x+y)"
   ]
  },
  {
   "cell_type": "code",
   "execution_count": 3,
   "id": "3939d603-1b5c-4087-990a-e4ae57278896",
   "metadata": {},
   "outputs": [],
   "source": [
    "x=5\n",
    "y=3"
   ]
  },
  {
   "cell_type": "code",
   "execution_count": 4,
   "id": "ad7a8821-7d10-4bad-8a78-b624b0091735",
   "metadata": {},
   "outputs": [
    {
     "name": "stdout",
     "output_type": "stream",
     "text": [
      "2\n"
     ]
    }
   ],
   "source": [
    "print(x-y)"
   ]
  },
  {
   "cell_type": "code",
   "execution_count": 6,
   "id": "eb308a3e-700e-4eb5-aba4-82225c0cbcbc",
   "metadata": {},
   "outputs": [
    {
     "data": {
      "text/plain": [
       "int"
      ]
     },
     "execution_count": 6,
     "metadata": {},
     "output_type": "execute_result"
    }
   ],
   "source": [
    "x=10\n",
    "type(x)"
   ]
  },
  {
   "cell_type": "code",
   "execution_count": 7,
   "id": "31e040be-1c02-4340-a021-de9cf8dc5c61",
   "metadata": {},
   "outputs": [
    {
     "data": {
      "text/plain": [
       "float"
      ]
     },
     "execution_count": 7,
     "metadata": {},
     "output_type": "execute_result"
    }
   ],
   "source": [
    "x=10.5\n",
    "type(x)"
   ]
  },
  {
   "cell_type": "code",
   "execution_count": 8,
   "id": "f594a6e9-6c7f-43bc-93ab-122d14bad754",
   "metadata": {},
   "outputs": [],
   "source": [
    "x=\"pranav\""
   ]
  },
  {
   "cell_type": "code",
   "execution_count": 9,
   "id": "ebb6048c-5c6b-4258-a21a-fd239495d16c",
   "metadata": {},
   "outputs": [
    {
     "name": "stdout",
     "output_type": "stream",
     "text": [
      "pranav\n"
     ]
    }
   ],
   "source": [
    "print(x)"
   ]
  },
  {
   "cell_type": "code",
   "execution_count": 10,
   "id": "7945a078-8c63-4c66-87cb-5e408a0873f0",
   "metadata": {},
   "outputs": [],
   "source": [
    "x=10\n",
    "y=20"
   ]
  },
  {
   "cell_type": "code",
   "execution_count": 12,
   "id": "16669e1c-be98-4ee9-acad-fa3e69e4d1ec",
   "metadata": {},
   "outputs": [
    {
     "name": "stdout",
     "output_type": "stream",
     "text": [
      "30\n"
     ]
    }
   ],
   "source": [
    "print(x+y)"
   ]
  },
  {
   "cell_type": "code",
   "execution_count": 14,
   "id": "a1eb4e2c-6299-45d0-ae9b-b8018799123c",
   "metadata": {},
   "outputs": [],
   "source": [
    "x=\"pranav\"\n",
    "y=\"ps\""
   ]
  },
  {
   "cell_type": "code",
   "execution_count": 15,
   "id": "e9edd3cd-f48e-4580-91a4-9c6cbecdb99d",
   "metadata": {},
   "outputs": [
    {
     "name": "stdout",
     "output_type": "stream",
     "text": [
      "pranavps\n"
     ]
    }
   ],
   "source": [
    "print(x+y)"
   ]
  },
  {
   "cell_type": "code",
   "execution_count": 16,
   "id": "438c9130-3f16-401f-abd2-c997eb8c6c4f",
   "metadata": {},
   "outputs": [],
   "source": [
    "x=\"pranav\"\n",
    "y=\"ps\""
   ]
  },
  {
   "cell_type": "code",
   "execution_count": 18,
   "id": "03b79c92-785a-4b7f-8a3f-2a40c59f3355",
   "metadata": {},
   "outputs": [
    {
     "name": "stdout",
     "output_type": "stream",
     "text": [
      "pranav ps\n"
     ]
    }
   ],
   "source": [
    "print(x+\" \"+y)\n"
   ]
  },
  {
   "cell_type": "code",
   "execution_count": 20,
   "id": "2fe95d34-25cc-427b-90c6-ff9602bcc427",
   "metadata": {},
   "outputs": [],
   "source": [
    "x=\"india\"\n",
    "y=\"is\"\n",
    "z=\"my\"\n",
    "a=\"country\""
   ]
  },
  {
   "cell_type": "code",
   "execution_count": 23,
   "id": "18341326-35d9-4d9c-873e-1e712e400585",
   "metadata": {},
   "outputs": [
    {
     "name": "stdout",
     "output_type": "stream",
     "text": [
      "india is my country\n"
     ]
    }
   ],
   "source": [
    "print(x+\" \"+y+\" \"+z+\" \"+a)\n"
   ]
  },
  {
   "cell_type": "code",
   "execution_count": null,
   "id": "ef40cfb6-3ddd-47fc-aa3e-97489960a0aa",
   "metadata": {},
   "outputs": [],
   "source": []
  }
 ],
 "metadata": {
  "kernelspec": {
   "display_name": "Python 3 (ipykernel)",
   "language": "python",
   "name": "python3"
  },
  "language_info": {
   "codemirror_mode": {
    "name": "ipython",
    "version": 3
   },
   "file_extension": ".py",
   "mimetype": "text/x-python",
   "name": "python",
   "nbconvert_exporter": "python",
   "pygments_lexer": "ipython3",
   "version": "3.9.12"
  }
 },
 "nbformat": 4,
 "nbformat_minor": 5
}
